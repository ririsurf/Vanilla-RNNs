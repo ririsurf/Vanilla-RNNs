{
 "cells": [
  {
   "cell_type": "markdown",
   "id": "d0cb9d7c-12a8-4b1d-b413-d99cb32b5998",
   "metadata": {},
   "source": [
    "# **Décodage d'un code convolutif à l'aide de RNN**"
   ]
  },
  {
   "cell_type": "markdown",
   "id": "3e0802c2-bc3d-4ad7-aae0-0ef301423e23",
   "metadata": {},
   "source": [
    "## **Boite à idée**"
   ]
  },
  {
   "cell_type": "markdown",
   "id": "c6cb3058-8917-4757-8978-d6e96a79ad5b",
   "metadata": {},
   "source": [
    "## **1. Importation des modules**"
   ]
  },
  {
   "cell_type": "code",
   "execution_count": 18,
   "id": "10c216c0-18cf-48ec-8a2f-d9c243245573",
   "metadata": {},
   "outputs": [],
   "source": [
    "import numpy as np\n",
    "import numpy.random as rd\n",
    "import matplotlib.pyplot as plt\n",
    "from keras.models import Sequential\n",
    "from keras import layers\n",
    "from CC import *\n",
    "from convolutif import *\n",
    "from Variante import va\n",
    "from sklearn.model_selection import train_test_split\n",
    "from keras import callbacks\n",
    "from keras import optimizers\n",
    "from datetime import datetime\n",
    "import tensorflow as tf"
   ]
  },
  {
   "cell_type": "markdown",
   "id": "e10e495f-5756-41c9-9c65-1e54d7fba1de",
   "metadata": {},
   "source": [
    "## **2. Création du dataset**"
   ]
  },
  {
   "cell_type": "markdown",
   "id": "55efd8d2-6e3c-44b5-9686-9043b22898d0",
   "metadata": {},
   "source": [
    "#### **Données bruitées à SNR fixe**"
   ]
  },
  {
   "cell_type": "code",
   "execution_count": 2,
   "id": "30bc1212-d58e-46a4-9890-a6506efd96a1",
   "metadata": {},
   "outputs": [],
   "source": [
    "## Choix des paramètres \n",
    "n = 50000  # taille jeu de données\n",
    "trame = 100  # taille trame\n",
    "SNR = 2  # Choix du SNR\n",
    "N0 = 10**(-SNR/10)\n",
    "Ec = 1/2\n",
    "\n",
    "learning_rate = 0.001394108\n",
    "\n",
    "\n",
    "## Création de X les targets et Y les labels \n",
    "Y = rd.randint (0, 2, (n, trame, 1))\n",
    "N0 = 10**(-SNR/10)\n",
    "bruit = np.sqrt (N0/2) * np.random.randn(len(Y), trame, 2)\n",
    "X = (-2 * np.array([cc2(h) for h in Y]) + 1) * np.sqrt(Ec) + bruit\n",
    "\n",
    "\n",
    "## Répartition données train et données test\n",
    "xtrain, xtest, ytrain, ytest = train_test_split (X, Y, test_size = 0.20)"
   ]
  },
  {
   "cell_type": "markdown",
   "id": "baf83062-9605-43c3-b3bc-c46cf468a4a5",
   "metadata": {},
   "source": [
    "## **3. Visualisation du dataset**"
   ]
  },
  {
   "cell_type": "code",
   "execution_count": 20,
   "id": "dd3cb510-0b4b-46b1-9713-dd0d9d2902f0",
   "metadata": {},
   "outputs": [
    {
     "name": "stdout",
     "output_type": "stream",
     "text": [
      " xtrain.shape : (40000, 100, 2)\n",
      " ytrain.shape : (40000, 100, 1)\n",
      " xtest.shape : (10000, 100, 2)\n",
      " ytest.shape : (10000, 100, 1)\n",
      " \n",
      " Les entrées sont des message du type :\n",
      "[[ 0.35612723 -2.02939635]\n",
      " [ 0.89926102 -1.46594381]\n",
      " [ 0.74131773 -0.04141117]\n",
      " [-0.55883183 -0.35507654]]\n",
      " \n",
      " \n",
      " les sorties sont des messages du type :\n",
      "[[0]\n",
      " [0]\n",
      " [0]\n",
      " [1]]\n"
     ]
    }
   ],
   "source": [
    "print (f\" xtrain.shape : {xtrain.shape}\")\n",
    "print (f\" ytrain.shape : {ytrain.shape}\")\n",
    "print (f\" xtest.shape : {xtest.shape}\")\n",
    "print (f\" ytest.shape : {ytest.shape}\")\n",
    "print (\" \")\n",
    "print (\" Les entrées sont des message du type :\")\n",
    "print (xtrain[0][:4])\n",
    "print (\" \")\n",
    "print (\" \")\n",
    "print (\" les sorties sont des messages du type :\")\n",
    "print (ytrain[0][:4])"
   ]
  },
  {
   "cell_type": "markdown",
   "id": "a6335b58-5439-4510-9cdb-8e46d14313e0",
   "metadata": {},
   "source": [
    "## **4. Création du modèle**"
   ]
  },
  {
   "cell_type": "code",
   "execution_count": 21,
   "id": "9571a345-490e-4fe0-8dae-6b2c09eec490",
   "metadata": {},
   "outputs": [
    {
     "data": {
      "text/html": [
       "<pre style=\"white-space:pre;overflow-x:auto;line-height:normal;font-family:Menlo,'DejaVu Sans Mono',consolas,'Courier New',monospace\"><span style=\"font-weight: bold\">Model: \"sequential_1\"</span>\n",
       "</pre>\n"
      ],
      "text/plain": [
       "\u001b[1mModel: \"sequential_1\"\u001b[0m\n"
      ]
     },
     "metadata": {},
     "output_type": "display_data"
    },
    {
     "data": {
      "text/html": [
       "<pre style=\"white-space:pre;overflow-x:auto;line-height:normal;font-family:Menlo,'DejaVu Sans Mono',consolas,'Courier New',monospace\">┏━━━━━━━━━━━━━━━━━━━━━━━━━━━━━━━━━┳━━━━━━━━━━━━━━━━━━━━━━━━┳━━━━━━━━━━━━━━━┓\n",
       "┃<span style=\"font-weight: bold\"> Layer (type)                    </span>┃<span style=\"font-weight: bold\"> Output Shape           </span>┃<span style=\"font-weight: bold\">       Param # </span>┃\n",
       "┡━━━━━━━━━━━━━━━━━━━━━━━━━━━━━━━━━╇━━━━━━━━━━━━━━━━━━━━━━━━╇━━━━━━━━━━━━━━━┩\n",
       "│ dropout_2 (<span style=\"color: #0087ff; text-decoration-color: #0087ff\">Dropout</span>)             │ (<span style=\"color: #00d7ff; text-decoration-color: #00d7ff\">None</span>, <span style=\"color: #00af00; text-decoration-color: #00af00\">100</span>, <span style=\"color: #00af00; text-decoration-color: #00af00\">2</span>)         │             <span style=\"color: #00af00; text-decoration-color: #00af00\">0</span> │\n",
       "├─────────────────────────────────┼────────────────────────┼───────────────┤\n",
       "│ bidirectional_2 (<span style=\"color: #0087ff; text-decoration-color: #0087ff\">Bidirectional</span>) │ (<span style=\"color: #00d7ff; text-decoration-color: #00d7ff\">None</span>, <span style=\"color: #00af00; text-decoration-color: #00af00\">100</span>, <span style=\"color: #00af00; text-decoration-color: #00af00\">128</span>)       │         <span style=\"color: #00af00; text-decoration-color: #00af00\">8,576</span> │\n",
       "├─────────────────────────────────┼────────────────────────┼───────────────┤\n",
       "│ batch_normalization_2           │ (<span style=\"color: #00d7ff; text-decoration-color: #00d7ff\">None</span>, <span style=\"color: #00af00; text-decoration-color: #00af00\">100</span>, <span style=\"color: #00af00; text-decoration-color: #00af00\">128</span>)       │           <span style=\"color: #00af00; text-decoration-color: #00af00\">512</span> │\n",
       "│ (<span style=\"color: #0087ff; text-decoration-color: #0087ff\">BatchNormalization</span>)            │                        │               │\n",
       "├─────────────────────────────────┼────────────────────────┼───────────────┤\n",
       "│ dropout_3 (<span style=\"color: #0087ff; text-decoration-color: #0087ff\">Dropout</span>)             │ (<span style=\"color: #00d7ff; text-decoration-color: #00d7ff\">None</span>, <span style=\"color: #00af00; text-decoration-color: #00af00\">100</span>, <span style=\"color: #00af00; text-decoration-color: #00af00\">128</span>)       │             <span style=\"color: #00af00; text-decoration-color: #00af00\">0</span> │\n",
       "├─────────────────────────────────┼────────────────────────┼───────────────┤\n",
       "│ bidirectional_3 (<span style=\"color: #0087ff; text-decoration-color: #0087ff\">Bidirectional</span>) │ (<span style=\"color: #00d7ff; text-decoration-color: #00d7ff\">None</span>, <span style=\"color: #00af00; text-decoration-color: #00af00\">100</span>, <span style=\"color: #00af00; text-decoration-color: #00af00\">128</span>)       │        <span style=\"color: #00af00; text-decoration-color: #00af00\">24,704</span> │\n",
       "├─────────────────────────────────┼────────────────────────┼───────────────┤\n",
       "│ batch_normalization_3           │ (<span style=\"color: #00d7ff; text-decoration-color: #00d7ff\">None</span>, <span style=\"color: #00af00; text-decoration-color: #00af00\">100</span>, <span style=\"color: #00af00; text-decoration-color: #00af00\">128</span>)       │           <span style=\"color: #00af00; text-decoration-color: #00af00\">512</span> │\n",
       "│ (<span style=\"color: #0087ff; text-decoration-color: #0087ff\">BatchNormalization</span>)            │                        │               │\n",
       "├─────────────────────────────────┼────────────────────────┼───────────────┤\n",
       "│ dense_3 (<span style=\"color: #0087ff; text-decoration-color: #0087ff\">Dense</span>)                 │ (<span style=\"color: #00d7ff; text-decoration-color: #00d7ff\">None</span>, <span style=\"color: #00af00; text-decoration-color: #00af00\">100</span>, <span style=\"color: #00af00; text-decoration-color: #00af00\">128</span>)       │        <span style=\"color: #00af00; text-decoration-color: #00af00\">16,512</span> │\n",
       "├─────────────────────────────────┼────────────────────────┼───────────────┤\n",
       "│ dense_4 (<span style=\"color: #0087ff; text-decoration-color: #0087ff\">Dense</span>)                 │ (<span style=\"color: #00d7ff; text-decoration-color: #00d7ff\">None</span>, <span style=\"color: #00af00; text-decoration-color: #00af00\">100</span>, <span style=\"color: #00af00; text-decoration-color: #00af00\">128</span>)       │        <span style=\"color: #00af00; text-decoration-color: #00af00\">16,512</span> │\n",
       "├─────────────────────────────────┼────────────────────────┼───────────────┤\n",
       "│ dense_5 (<span style=\"color: #0087ff; text-decoration-color: #0087ff\">Dense</span>)                 │ (<span style=\"color: #00d7ff; text-decoration-color: #00d7ff\">None</span>, <span style=\"color: #00af00; text-decoration-color: #00af00\">100</span>, <span style=\"color: #00af00; text-decoration-color: #00af00\">1</span>)         │           <span style=\"color: #00af00; text-decoration-color: #00af00\">129</span> │\n",
       "└─────────────────────────────────┴────────────────────────┴───────────────┘\n",
       "</pre>\n"
      ],
      "text/plain": [
       "┏━━━━━━━━━━━━━━━━━━━━━━━━━━━━━━━━━┳━━━━━━━━━━━━━━━━━━━━━━━━┳━━━━━━━━━━━━━━━┓\n",
       "┃\u001b[1m \u001b[0m\u001b[1mLayer (type)                   \u001b[0m\u001b[1m \u001b[0m┃\u001b[1m \u001b[0m\u001b[1mOutput Shape          \u001b[0m\u001b[1m \u001b[0m┃\u001b[1m \u001b[0m\u001b[1m      Param #\u001b[0m\u001b[1m \u001b[0m┃\n",
       "┡━━━━━━━━━━━━━━━━━━━━━━━━━━━━━━━━━╇━━━━━━━━━━━━━━━━━━━━━━━━╇━━━━━━━━━━━━━━━┩\n",
       "│ dropout_2 (\u001b[38;5;33mDropout\u001b[0m)             │ (\u001b[38;5;45mNone\u001b[0m, \u001b[38;5;34m100\u001b[0m, \u001b[38;5;34m2\u001b[0m)         │             \u001b[38;5;34m0\u001b[0m │\n",
       "├─────────────────────────────────┼────────────────────────┼───────────────┤\n",
       "│ bidirectional_2 (\u001b[38;5;33mBidirectional\u001b[0m) │ (\u001b[38;5;45mNone\u001b[0m, \u001b[38;5;34m100\u001b[0m, \u001b[38;5;34m128\u001b[0m)       │         \u001b[38;5;34m8,576\u001b[0m │\n",
       "├─────────────────────────────────┼────────────────────────┼───────────────┤\n",
       "│ batch_normalization_2           │ (\u001b[38;5;45mNone\u001b[0m, \u001b[38;5;34m100\u001b[0m, \u001b[38;5;34m128\u001b[0m)       │           \u001b[38;5;34m512\u001b[0m │\n",
       "│ (\u001b[38;5;33mBatchNormalization\u001b[0m)            │                        │               │\n",
       "├─────────────────────────────────┼────────────────────────┼───────────────┤\n",
       "│ dropout_3 (\u001b[38;5;33mDropout\u001b[0m)             │ (\u001b[38;5;45mNone\u001b[0m, \u001b[38;5;34m100\u001b[0m, \u001b[38;5;34m128\u001b[0m)       │             \u001b[38;5;34m0\u001b[0m │\n",
       "├─────────────────────────────────┼────────────────────────┼───────────────┤\n",
       "│ bidirectional_3 (\u001b[38;5;33mBidirectional\u001b[0m) │ (\u001b[38;5;45mNone\u001b[0m, \u001b[38;5;34m100\u001b[0m, \u001b[38;5;34m128\u001b[0m)       │        \u001b[38;5;34m24,704\u001b[0m │\n",
       "├─────────────────────────────────┼────────────────────────┼───────────────┤\n",
       "│ batch_normalization_3           │ (\u001b[38;5;45mNone\u001b[0m, \u001b[38;5;34m100\u001b[0m, \u001b[38;5;34m128\u001b[0m)       │           \u001b[38;5;34m512\u001b[0m │\n",
       "│ (\u001b[38;5;33mBatchNormalization\u001b[0m)            │                        │               │\n",
       "├─────────────────────────────────┼────────────────────────┼───────────────┤\n",
       "│ dense_3 (\u001b[38;5;33mDense\u001b[0m)                 │ (\u001b[38;5;45mNone\u001b[0m, \u001b[38;5;34m100\u001b[0m, \u001b[38;5;34m128\u001b[0m)       │        \u001b[38;5;34m16,512\u001b[0m │\n",
       "├─────────────────────────────────┼────────────────────────┼───────────────┤\n",
       "│ dense_4 (\u001b[38;5;33mDense\u001b[0m)                 │ (\u001b[38;5;45mNone\u001b[0m, \u001b[38;5;34m100\u001b[0m, \u001b[38;5;34m128\u001b[0m)       │        \u001b[38;5;34m16,512\u001b[0m │\n",
       "├─────────────────────────────────┼────────────────────────┼───────────────┤\n",
       "│ dense_5 (\u001b[38;5;33mDense\u001b[0m)                 │ (\u001b[38;5;45mNone\u001b[0m, \u001b[38;5;34m100\u001b[0m, \u001b[38;5;34m1\u001b[0m)         │           \u001b[38;5;34m129\u001b[0m │\n",
       "└─────────────────────────────────┴────────────────────────┴───────────────┘\n"
      ]
     },
     "metadata": {},
     "output_type": "display_data"
    },
    {
     "data": {
      "text/html": [
       "<pre style=\"white-space:pre;overflow-x:auto;line-height:normal;font-family:Menlo,'DejaVu Sans Mono',consolas,'Courier New',monospace\"><span style=\"font-weight: bold\"> Total params: </span><span style=\"color: #00af00; text-decoration-color: #00af00\">67,457</span> (263.50 KB)\n",
       "</pre>\n"
      ],
      "text/plain": [
       "\u001b[1m Total params: \u001b[0m\u001b[38;5;34m67,457\u001b[0m (263.50 KB)\n"
      ]
     },
     "metadata": {},
     "output_type": "display_data"
    },
    {
     "data": {
      "text/html": [
       "<pre style=\"white-space:pre;overflow-x:auto;line-height:normal;font-family:Menlo,'DejaVu Sans Mono',consolas,'Courier New',monospace\"><span style=\"font-weight: bold\"> Trainable params: </span><span style=\"color: #00af00; text-decoration-color: #00af00\">66,945</span> (261.50 KB)\n",
       "</pre>\n"
      ],
      "text/plain": [
       "\u001b[1m Trainable params: \u001b[0m\u001b[38;5;34m66,945\u001b[0m (261.50 KB)\n"
      ]
     },
     "metadata": {},
     "output_type": "display_data"
    },
    {
     "data": {
      "text/html": [
       "<pre style=\"white-space:pre;overflow-x:auto;line-height:normal;font-family:Menlo,'DejaVu Sans Mono',consolas,'Courier New',monospace\"><span style=\"font-weight: bold\"> Non-trainable params: </span><span style=\"color: #00af00; text-decoration-color: #00af00\">512</span> (2.00 KB)\n",
       "</pre>\n"
      ],
      "text/plain": [
       "\u001b[1m Non-trainable params: \u001b[0m\u001b[38;5;34m512\u001b[0m (2.00 KB)\n"
      ]
     },
     "metadata": {},
     "output_type": "display_data"
    }
   ],
   "source": [
    "model = Sequential ()\n",
    "\n",
    "model.add (layers.Input (shape = (trame, 2)))\n",
    "\n",
    "\n",
    "model.add (layers.Dropout (0.2))\n",
    "model.add (layers.Bidirectional (layers.SimpleRNN (64, return_sequences = True)))\n",
    "model.add (layers.BatchNormalization ())\n",
    "model.add (layers.Dropout (0.2))\n",
    "model.add (layers.Bidirectional (layers.SimpleRNN (64, return_sequences = True)))\n",
    "model.add (layers.BatchNormalization ())\n",
    "model.add (layers.Dense (128, activation = \"sigmoid\"))\n",
    "model.add (layers.Dense (128, activation = \"sigmoid\"))\n",
    "\n",
    "model.add (layers.Dense (1, activation = \"sigmoid\"))\n",
    "\n",
    "model.summary ()"
   ]
  },
  {
   "cell_type": "markdown",
   "id": "ea0dcb30-11f6-49da-9738-7182da84b1df",
   "metadata": {},
   "source": [
    "## **5. Entrainnement du modèle**"
   ]
  },
  {
   "cell_type": "code",
   "execution_count": 22,
   "id": "a4390599-a9af-4ab1-b726-3d66f5e2b27a",
   "metadata": {},
   "outputs": [],
   "source": [
    "sigma_0 = 0.05\n",
    "P = 30\n",
    "\n",
    "class SimulatedAnnealingCallback(tf.keras.callbacks.Callback):\n",
    "    def __init__(self, sigma_0, P):\n",
    "        super(SimulatedAnnealingCallback, self).__init__()\n",
    "        self.sigma_0 = sigma_0\n",
    "        self.P = P\n",
    "        self.current_epoch = 0\n",
    " \n",
    "    def on_epoch_end(self, epoch, logs=None):\n",
    "        self.current_epoch = epoch\n",
    "        sigma_p = self.sigma_0 * (1 - epoch / self.P)\n",
    " \n",
    "        for var in self.model.trainable_variables:\n",
    "            noise = tf.random.normal(shape=var.shape, stddev=sigma_p)\n",
    "            var.assign_add(noise)\n",
    " \n",
    "        print(f\"   Epoch {epoch+1}/{self.P} - Applied SA noise (σ={sigma_p:.4f})\")\n",
    "\n",
    "sa_callback = SimulatedAnnealingCallback(sigma_0, P)"
   ]
  },
  {
   "cell_type": "code",
   "execution_count": 23,
   "id": "8367768f-54c1-4489-ac4d-e4e92c2fe16c",
   "metadata": {},
   "outputs": [],
   "source": [
    "accurate = 0.981\n",
    "\n",
    "class StopWhenAccuracyReached(tf.keras.callbacks.Callback):\n",
    "    def __init__(self, target_accuracy):\n",
    "        super().__init__()\n",
    "        self.target_accuracy = target_accuracy\n",
    "\n",
    "    def on_epoch_end(self, epoch, logs=None):\n",
    "        val_acc = logs.get(\"val_accuracy\")\n",
    "        if val_acc is not None and val_acc >= self.target_accuracy:\n",
    "            print(f\"\\n Accuracy {val_acc:.4f} atteinte à l'époque {epoch + 1}, arrêt de l'entraînement.\")\n",
    "            self.model.stop_training = True  \n",
    "\n",
    "\n",
    "Target = StopWhenAccuracyReached(accurate)"
   ]
  },
  {
   "cell_type": "code",
   "execution_count": 24,
   "id": "42311e98-903d-452f-adcc-9c8efedeff37",
   "metadata": {},
   "outputs": [],
   "source": [
    "EarlyStopping = callbacks.EarlyStopping (monitor = \"val_accuracy\", patience = 1)\n",
    "TensorBoard = callbacks.TensorBoard (log_dir = \"rnnCC1\", histogram_freq = 1)\n",
    "CheckPoint = callbacks.ModelCheckpoint (filepath = \"rnnCC1.keras\", monitor = \"val_accuracy\", save_best_only = True)\n",
    "ReduceLR = callbacks.ReduceLROnPlateau (monitor = \"val_loss\", factor = 0.1, patience = 10)\n",
    "\n",
    "\n",
    "optimizerA = optimizers.Adam (learning_rate = 0.001394108, clipnorm = 1.)\n",
    "optimizerB = optimizers.RMSprop (learning_rate = 0.001394108, clipnorm = 1.)"
   ]
  },
  {
   "cell_type": "code",
   "execution_count": 25,
   "id": "9993e613-c6d6-4d21-8808-965aa5084bd1",
   "metadata": {},
   "outputs": [
    {
     "name": "stdout",
     "output_type": "stream",
     "text": [
      "Epoch 1/12\n",
      "\u001b[1m2500/2500\u001b[0m \u001b[32m━━━━━━━━━━━━━━━━━━━━\u001b[0m\u001b[37m\u001b[0m \u001b[1m109s\u001b[0m 43ms/step - accuracy: 0.8243 - loss: 0.3418 - val_accuracy: 0.9607 - val_loss: 0.1059\n",
      "Epoch 2/12\n",
      "\u001b[1m2500/2500\u001b[0m \u001b[32m━━━━━━━━━━━━━━━━━━━━\u001b[0m\u001b[37m\u001b[0m \u001b[1m108s\u001b[0m 43ms/step - accuracy: 0.9056 - loss: 0.2170 - val_accuracy: 0.9743 - val_loss: 0.0720\n",
      "Epoch 3/12\n",
      "\u001b[1m2500/2500\u001b[0m \u001b[32m━━━━━━━━━━━━━━━━━━━━\u001b[0m\u001b[37m\u001b[0m \u001b[1m108s\u001b[0m 43ms/step - accuracy: 0.9136 - loss: 0.2013 - val_accuracy: 0.9764 - val_loss: 0.0659\n",
      "Epoch 4/12\n",
      "\u001b[1m2500/2500\u001b[0m \u001b[32m━━━━━━━━━━━━━━━━━━━━\u001b[0m\u001b[37m\u001b[0m \u001b[1m109s\u001b[0m 44ms/step - accuracy: 0.9160 - loss: 0.1960 - val_accuracy: 0.9768 - val_loss: 0.0662\n",
      "Epoch 5/12\n",
      "\u001b[1m2500/2500\u001b[0m \u001b[32m━━━━━━━━━━━━━━━━━━━━\u001b[0m\u001b[37m\u001b[0m \u001b[1m109s\u001b[0m 44ms/step - accuracy: 0.9172 - loss: 0.1936 - val_accuracy: 0.9770 - val_loss: 0.0645\n",
      "Epoch 6/12\n",
      "\u001b[1m2500/2500\u001b[0m \u001b[32m━━━━━━━━━━━━━━━━━━━━\u001b[0m\u001b[37m\u001b[0m \u001b[1m107s\u001b[0m 43ms/step - accuracy: 0.9177 - loss: 0.1927 - val_accuracy: 0.9779 - val_loss: 0.0602\n",
      "Epoch 7/12\n",
      "\u001b[1m2500/2500\u001b[0m \u001b[32m━━━━━━━━━━━━━━━━━━━━\u001b[0m\u001b[37m\u001b[0m \u001b[1m107s\u001b[0m 43ms/step - accuracy: 0.9193 - loss: 0.1896 - val_accuracy: 0.9780 - val_loss: 0.0644\n",
      "Epoch 8/12\n",
      "\u001b[1m2500/2500\u001b[0m \u001b[32m━━━━━━━━━━━━━━━━━━━━\u001b[0m\u001b[37m\u001b[0m \u001b[1m106s\u001b[0m 43ms/step - accuracy: 0.9195 - loss: 0.1888 - val_accuracy: 0.9780 - val_loss: 0.0606\n",
      "Epoch 9/12\n",
      "\u001b[1m2500/2500\u001b[0m \u001b[32m━━━━━━━━━━━━━━━━━━━━\u001b[0m\u001b[37m\u001b[0m \u001b[1m106s\u001b[0m 42ms/step - accuracy: 0.9200 - loss: 0.1878 - val_accuracy: 0.9768 - val_loss: 0.0638\n",
      "Epoch 10/12\n",
      "\u001b[1m2500/2500\u001b[0m \u001b[32m━━━━━━━━━━━━━━━━━━━━\u001b[0m\u001b[37m\u001b[0m \u001b[1m106s\u001b[0m 42ms/step - accuracy: 0.9200 - loss: 0.1877 - val_accuracy: 0.9784 - val_loss: 0.0606\n",
      "Epoch 11/12\n",
      "\u001b[1m2500/2500\u001b[0m \u001b[32m━━━━━━━━━━━━━━━━━━━━\u001b[0m\u001b[37m\u001b[0m \u001b[1m106s\u001b[0m 42ms/step - accuracy: 0.9203 - loss: 0.1867 - val_accuracy: 0.9787 - val_loss: 0.0585\n",
      "Epoch 12/12\n",
      "\u001b[1m2500/2500\u001b[0m \u001b[32m━━━━━━━━━━━━━━━━━━━━\u001b[0m\u001b[37m\u001b[0m \u001b[1m106s\u001b[0m 43ms/step - accuracy: 0.9205 - loss: 0.1864 - val_accuracy: 0.9784 - val_loss: 0.0599\n"
     ]
    }
   ],
   "source": [
    "model.compile (optimizer = optimizerA, loss = \"bce\", metrics = [\"accuracy\"])\n",
    "\n",
    "history = model.fit (xtrain, \n",
    "                     ytrain,\n",
    "                     epochs = 20, \n",
    "                     verbose = 1, \n",
    "                     validation_data = (xtest, ytest), \n",
    "                     callbacks = [CheckPoint], \n",
    "                     batch_size = 16)"
   ]
  },
  {
   "cell_type": "markdown",
   "id": "57aea428-fa68-487d-ba32-449766200214",
   "metadata": {},
   "source": [
    "## **6. Visualisation des performances**"
   ]
  },
  {
   "cell_type": "code",
   "execution_count": 26,
   "id": "831c1be0-ad1b-45a9-b436-17be6157d785",
   "metadata": {},
   "outputs": [
    {
     "data": {
      "image/png": "[encoded data removed]",
      "text/plain": [
       "<Figure size 640x480 with 1 Axes>"
      ]
     },
     "metadata": {},
     "output_type": "display_data"
    },
    {
     "data": {
      "image/png": "[encoded data removed]",
      "text/plain": [
       "<Figure size 640x480 with 1 Axes>"
      ]
     },
     "metadata": {},
     "output_type": "display_data"
    }
   ],
   "source": [
    "trainloss = history.history [\"loss\"]\n",
    "testloss = history.history [\"val_loss\"]\n",
    "trainaccuracy = history.history [\"accuracy\"]\n",
    "testaccuracy = history.history [\"val_accuracy\"]\n",
    "\n",
    "plt.plot (range (20), trainloss, \"b\", label = \"train loss\")\n",
    "plt.plot (range (20), testloss, \"r\", label = \"test loss\")\n",
    "plt.title (\"Evolution de la fonction perte\")\n",
    "plt.xlabel (\"epoch\")\n",
    "plt.ylabel (\"perte\")\n",
    "plt.legend ()\n",
    "plt.grid (True)\n",
    "plt.show ()\n",
    "\n",
    "\n",
    "plt.plot (range (20), trainaccuracy, \"b\", label = \"train accuracy\")\n",
    "plt.plot (range (20), testaccuracy, \"r\", label = \"test accuracy\")\n",
    "#plt.title (\"Evolution de la fonction accuracy\")\n",
    "plt.xlabel (\"epoch\")\n",
    "plt.ylabel (\"accuracy\")\n",
    "plt.legend ()\n",
    "plt.grid (True)\n",
    "#plt.savefig(f\"Courbes/RNN/21a{datetime.now().strftime('%H%M')}.png\", dpi=300)\n",
    "plt.show ()"
   ]
  },
  {
   "cell_type": "markdown",
   "id": "c96a29ef-f74a-4732-86fb-f0100fba7324",
   "metadata": {},
   "source": [
    "## **8. Validation du modèle**"
   ]
  },
  {
   "cell_type": "code",
   "execution_count": 11,
   "id": "7555b721-6873-4542-8b20-1d7c82d1f3cc",
   "metadata": {},
   "outputs": [],
   "source": [
    "n_eval = 200000\n",
    "trame_eval = 100\n",
    "\n",
    "yeval = rd.randint (0, 2, (n_eval, trame_eval, 1))\n",
    "N0 = 10**(-SNR/10)\n",
    "bruit = np.sqrt (N0/2) * np.random.randn(len(yeval), trame_eval, 2)\n",
    "xeval = (-2 * np.array([cc2(h) for h in yeval]) + 1) * np.sqrt(Ec) + bruit"
   ]
  },
  {
   "cell_type": "code",
   "execution_count": 27,
   "id": "9efa7fde-e01b-434e-a9c1-947dd44157d9",
   "metadata": {},
   "outputs": [
    {
     "name": "stdout",
     "output_type": "stream",
     "text": [
      "\u001b[1m6250/6250\u001b[0m \u001b[32m━━━━━━━━━━━━━━━━━━━━\u001b[0m\u001b[37m\u001b[0m \u001b[1m100s\u001b[0m 16ms/step - accuracy: 0.9779 - loss: 0.0606\n",
      " \n",
      " Le modèle a une précision de 97.80429601669312 pourcent pour un SNR de 2\n"
     ]
    }
   ],
   "source": [
    "loss, accuracy = model.evaluate (xeval, yeval)\n",
    "print (\" \")\n",
    "print (f\" Le modèle a une précision de {accuracy*100} pourcent pour un SNR de {SNR}\")"
   ]
  },
  {
   "cell_type": "markdown",
   "id": "eec6f26f-74eb-4833-89b5-4bd1de301b6b",
   "metadata": {},
   "source": [
    "## **9. Sauvegarde du modèle**"
   ]
  },
  {
   "cell_type": "code",
   "execution_count": 28,
   "id": "e8093fcd-1958-4843-b45f-8f543d02c833",
   "metadata": {},
   "outputs": [],
   "source": [
    "model.save(\"rnnCCRNN.keras\")"
   ]
  },
  {
   "cell_type": "code",
   "execution_count": null,
   "id": "b6df01d6-903d-4c7d-9861-03f588c210e8",
   "metadata": {},
   "outputs": [],
   "source": []
  }
 ],
 "metadata": {
  "kernelspec": {
   "display_name": "Python 3 (ipykernel)",
   "language": "python",
   "name": "python3"
  },
  "language_info": {
   "codemirror_mode": {
    "name": "ipython",
    "version": 3
   },
   "file_extension": ".py",
   "mimetype": "text/x-python",
   "name": "python",
   "nbconvert_exporter": "python",
   "pygments_lexer": "ipython3",
   "version": "3.12.3"
  }
 },
 "nbformat": 4,
 "nbformat_minor": 5
}
